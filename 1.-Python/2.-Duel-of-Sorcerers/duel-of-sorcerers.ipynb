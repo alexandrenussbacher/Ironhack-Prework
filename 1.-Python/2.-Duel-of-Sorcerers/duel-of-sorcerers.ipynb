{
 "cells": [
  {
   "cell_type": "markdown",
   "metadata": {},
   "source": [
    "<img src=\"https://bit.ly/2VnXWr2\" width=\"100\" align=\"left\">"
   ]
  },
  {
   "cell_type": "markdown",
   "metadata": {},
   "source": [
    "# Duel of Sorcerers\n",
    "You are witnessing an epic battle between two powerful sorcerers: Gandalf and Saruman. Each sorcerer has 10 spells of variable power in their mind and they are going to throw them one after the other. The winner of the duel will be the one who wins more of those clashes between spells. Spells are represented as a list of 10 integers whose value equals the power of the spell.\n",
    "```\n",
    "gandalf = [10, 11, 13, 30, 22, 11, 10, 33, 22, 22]\n",
    "saruman = [23, 66, 12, 43, 12, 10, 44, 23, 12, 17]\n",
    "```\n",
    "For example:\n",
    "- The first clash is won by Saruman: 10 against 23.\n",
    "- The second clash is won by Saruman: 11 against 66.\n",
    "- ...\n",
    "\n",
    "You will create two variables, one for each sorcerer, where the sum of clashes won will be stored. Depending on which variable is greater at the end of the duel, you will show one of the following three results on the screen:\n",
    "* Gandalf wins\n",
    "* Saruman wins\n",
    "* Tie\n",
    "\n",
    "<img src=\"images/content_lightning_bolt_big.jpg\" width=\"400\">"
   ]
  },
  {
   "cell_type": "markdown",
   "metadata": {},
   "source": [
    "## Tools\n",
    "You don't necessarily need to use all the tools. Maybe you opt to use some of them or completely different ones, they are given to help you shape the exercise. Programming exercises can be solved in many different ways.\n",
    "\n",
    "1. Data structures: **lists, dictionaries**\n",
    "2. Loop: **for loop**\n",
    "3. Conditional statements: **if-elif-else**\n",
    "4. Functions: **range(), len(), print()**\n",
    "\n",
    "## Tasks\n",
    "\n",
    "#### 1. Create two variables called `gandalf` and `saruman` and assign them the spell power lists. Create a variable called `spells` to store the number of spells that the sorcerers cast. "
   ]
  },
  {
   "cell_type": "code",
   "execution_count": 2,
   "metadata": {
    "ExecuteTime": {
     "end_time": "2020-11-09T15:51:50.301017Z",
     "start_time": "2020-11-09T15:51:50.292470Z"
    }
   },
   "outputs": [],
   "source": [
    "gandalf=[10, 11, 13, 30, 22, 11, 10, 33, 22, 22]\n",
    "saruman=[23, 66, 12, 43, 12, 10, 44, 23, 12, 17]\n",
    "spells=len(gandalf)"
   ]
  },
  {
   "cell_type": "markdown",
   "metadata": {},
   "source": [
    "#### 2. Create two variables called `gandalf_wins` and `saruman_wins`. Set both of them to 0. \n",
    "You will use these variables to count the number of clashes each sorcerer wins. "
   ]
  },
  {
   "cell_type": "code",
   "execution_count": 3,
   "metadata": {
    "ExecuteTime": {
     "end_time": "2020-11-09T15:51:50.312756Z",
     "start_time": "2020-11-09T15:51:50.306600Z"
    }
   },
   "outputs": [],
   "source": [
    "gandalf_wins=0\n",
    "saruman_wins=0"
   ]
  },
  {
   "cell_type": "markdown",
   "metadata": {},
   "source": [
    "#### 3. Using the lists of spells of both sorcerers, update variables `gandalf_wins` and `saruman_wins` to count the number of times each sorcerer wins a clash. "
   ]
  },
  {
   "cell_type": "code",
   "execution_count": 4,
   "metadata": {
    "ExecuteTime": {
     "end_time": "2020-11-09T15:51:50.331835Z",
     "start_time": "2020-11-09T15:51:50.318488Z"
    }
   },
   "outputs": [
    {
     "name": "stdout",
     "output_type": "stream",
     "text": [
      "6\n",
      "4\n"
     ]
    }
   ],
   "source": [
    "s=0\n",
    "gandalf_wins=0\n",
    "saruman_wins=0\n",
    "\n",
    "for g in gandalf:\n",
    "    if g>saruman[s]:\n",
    "        gandalf_wins1+=1\n",
    "    elif g<saruman[s]:\n",
    "        saruman_wins1+=1\n",
    "    s+=1\n",
    "    \n",
    "print(gandalf_wins)\n",
    "print(saruman_wins)"
   ]
  },
  {
   "cell_type": "markdown",
   "metadata": {},
   "source": [
    "#### 4. Who won the battle?\n",
    "Print `Gandalf wins`, `Saruman wins` or `Tie` depending on the result. "
   ]
  },
  {
   "cell_type": "code",
   "execution_count": 5,
   "metadata": {
    "ExecuteTime": {
     "end_time": "2020-11-09T15:51:50.347651Z",
     "start_time": "2020-11-09T15:51:50.335872Z"
    }
   },
   "outputs": [
    {
     "name": "stdout",
     "output_type": "stream",
     "text": [
      "Gandalf wins\n"
     ]
    }
   ],
   "source": [
    "if gandalf_wins>saruman_wins:\n",
    "    print(\"Gandalf wins\")\n",
    "elif saruman_wins>gandalf_wins:\n",
    "    print(\"Saruman wins\")\n",
    "elif gandalf_wins==saruman_wins:\n",
    "    print(\"Tie\")"
   ]
  },
  {
   "cell_type": "markdown",
   "metadata": {},
   "source": [
    "## Bonus\n",
    "\n",
    "In this bonus challenge, you'll need to check the winner of the battle but this time, a sorcerer wins if he succeeds in winning 3 spell clashes in a row.\n",
    "\n",
    "Also, the spells now have a name and there is a dictionary that associates that name to a power.\n",
    "\n",
    "```\n",
    "POWER = {\n",
    "    'Fireball': 50, \n",
    "    'Lightning bolt': 40, \n",
    "    'Magic arrow': 10, \n",
    "    'Black Tentacles': 25, \n",
    "    'Contagion': 45\n",
    "}\n",
    "\n",
    "gandalf = ['Fireball', 'Lightning bolt', 'Lightning bolt', 'Magic arrow', 'Fireball', \n",
    "           'Magic arrow', 'Lightning bolt', 'Fireball', 'Fireball', 'Fireball']\n",
    "saruman = ['Contagion', 'Contagion', 'Black Tentacles', 'Fireball', 'Black Tentacles', \n",
    "           'Lightning bolt', 'Magic arrow', 'Contagion', 'Magic arrow', 'Magic arrow']\n",
    "```\n",
    "\n",
    "#### 1. Create variables `POWER`, `gandalf` and `saruman` as seen above. Create a variable called `spells` to store the number of spells that the sorcerers cast. "
   ]
  },
  {
   "cell_type": "code",
   "execution_count": 6,
   "metadata": {
    "ExecuteTime": {
     "end_time": "2020-11-09T15:51:50.364101Z",
     "start_time": "2020-11-09T15:51:50.353190Z"
    }
   },
   "outputs": [],
   "source": [
    "power={\"Fireball\": 50, \"Lightning bolt\": 40, \"Magic arrow\": 10, \"Black Tentacles\": 25, \"Contagion\": 45}\n",
    "gandalf2=[\"Fireball\", \"Lightning bolt\", \"Lightning bolt\", \"Magic arrow\", \"Fireball\", \"Magic arrow\", \"Lightning bolt\", \n",
    "         \"Fireball\", \"Fireball\", \"Fireball\"]\n",
    "saruman2=[\"Contagion\", \"Contagion\", \"Black Tentacles\", \"Fireball\", \"Black Tentacles\", \"Lightning bolt\", \"Magic arrow\",\n",
    "           \"Contagion\", \"Magic arrow\", \"Magic arrow\"]\n",
    "spells=len(gandalf)"
   ]
  },
  {
   "cell_type": "markdown",
   "metadata": {},
   "source": [
    "#### 2. Create two variables called `gandalf_wins` and `saruman_wins`. Set both of them to 0. "
   ]
  },
  {
   "cell_type": "code",
   "execution_count": 7,
   "metadata": {
    "ExecuteTime": {
     "end_time": "2020-11-09T15:51:50.390139Z",
     "start_time": "2020-11-09T15:51:50.369005Z"
    }
   },
   "outputs": [],
   "source": [
    "gandalf_wins=0\n",
    "saruman_wins=0"
   ]
  },
  {
   "cell_type": "markdown",
   "metadata": {},
   "source": [
    "#### 3. Create two variables called `gandalf_power` and `saruman_power` to store the list of spell powers of each sorcerer."
   ]
  },
  {
   "cell_type": "code",
   "execution_count": 8,
   "metadata": {
    "ExecuteTime": {
     "end_time": "2020-11-09T15:51:50.425494Z",
     "start_time": "2020-11-09T15:51:50.406796Z"
    }
   },
   "outputs": [
    {
     "name": "stdout",
     "output_type": "stream",
     "text": [
      "[50, 40, 40, 10, 50, 10, 40, 50, 50, 50]\n",
      "[45, 45, 25, 50, 25, 40, 10, 45, 10, 10]\n"
     ]
    }
   ],
   "source": [
    "g=0\n",
    "gandalf_power=[]\n",
    "while g<spells:\n",
    "    poder_g=power[gandalf[g]]\n",
    "    gandalf_power.append(poder_g)\n",
    "    g+=1\n",
    "\n",
    "s=0\n",
    "saruman_power=[]\n",
    "while s<spells:\n",
    "    poder_s=power[saruman[s]]\n",
    "    saruman_power.append(poder_s)\n",
    "    s+=1\n",
    "\n",
    "print(gandalf_power)\n",
    "print(saruman_power)"
   ]
  },
  {
   "cell_type": "markdown",
   "metadata": {},
   "source": [
    "#### 4. The battle starts! Using the variables you've created above, code the execution of spell clashes. Remember that a sorcerer wins if he succeeds in winning 3 spell clashes in a row. \n",
    "If a clash ends up in a tie, the counter of wins in a row is not restarted to 0. Remember to print who is the winner of the battle. "
   ]
  },
  {
   "cell_type": "code",
   "execution_count": 9,
   "metadata": {
    "ExecuteTime": {
     "end_time": "2020-11-09T15:51:50.444931Z",
     "start_time": "2020-11-09T15:51:50.433591Z"
    }
   },
   "outputs": [
    {
     "name": "stdout",
     "output_type": "stream",
     "text": [
      "Gandalf wins\n"
     ]
    }
   ],
   "source": [
    "a=0\n",
    "b=0\n",
    "c=0\n",
    "gandalf_wins=0\n",
    "saruman_wins=0\n",
    "\n",
    "for i in gandalf_power:\n",
    "    if i>saruman_power[a]:\n",
    "        gandalf_wins+=1\n",
    "        b+=1\n",
    "        c=0\n",
    "    elif saruman_power[a]>i:\n",
    "        saruman_wins2+=1\n",
    "        c=0\n",
    "        d+=1\n",
    "    a+=1\n",
    "    \n",
    "if c>=3:\n",
    "    print(\"Gandalf wins\")\n",
    "elif d>=3:\n",
    "    print(\"Saruman wins\")"
   ]
  },
  {
   "cell_type": "markdown",
   "metadata": {},
   "source": [
    "#### 5. Find the average spell power of Gandalf and Saruman. "
   ]
  },
  {
   "cell_type": "code",
   "execution_count": 10,
   "metadata": {
    "ExecuteTime": {
     "end_time": "2020-11-09T15:51:50.460937Z",
     "start_time": "2020-11-09T15:51:50.449332Z"
    }
   },
   "outputs": [
    {
     "name": "stdout",
     "output_type": "stream",
     "text": [
      "Média Gandalf:  39.0\n",
      "Média Saruman:  30.5\n"
     ]
    }
   ],
   "source": [
    "media_g=sum(gandalf_power)/len(gandalf_power)\n",
    "media_s=sum(saruman_power)/len(saruman_power)\n",
    "\n",
    "print(\"Média Gandalf: \", media_g)\n",
    "print(\"Média Saruman: \", media_s)"
   ]
  },
  {
   "cell_type": "markdown",
   "metadata": {},
   "source": [
    "#### 6. Find the standard deviation of the spell power of Gandalf and Saruman. "
   ]
  },
  {
   "cell_type": "code",
   "execution_count": 11,
   "metadata": {
    "ExecuteTime": {
     "end_time": "2020-11-09T15:51:50.476101Z",
     "start_time": "2020-11-09T15:51:50.466358Z"
    }
   },
   "outputs": [
    {
     "name": "stdout",
     "output_type": "stream",
     "text": [
      "Desvio padrão Gandalf:  15.951314818673865\n",
      "Desvio padrão Saruman:  16.40629960309962\n"
     ]
    }
   ],
   "source": [
    "soma_g=0\n",
    "\n",
    "for i in gandalf_power:\n",
    "    soma_g=soma_g+(i-media_g)**2\n",
    "    \n",
    "dp_g=(soma_g/(len(gandalf_power)-1))**(1/2)\n",
    "\n",
    "soma_s=0\n",
    "\n",
    "for i in saruman_power:\n",
    "    soma_s=soma_s+(i-media_s)**2\n",
    "    \n",
    "dp_s=(soma_s/(len(saruman_power)-1))**(1/2)\n",
    "\n",
    "print(\"Desvio padrão Gandalf: \", dp_g)\n",
    "print(\"Desvio padrão Saruman: \", dp_s)"
   ]
  }
 ],
 "metadata": {
  "hide_input": false,
  "kernelspec": {
   "display_name": "Python 3",
   "language": "python",
   "name": "python3"
  },
  "language_info": {
   "codemirror_mode": {
    "name": "ipython",
    "version": 3
   },
   "file_extension": ".py",
   "mimetype": "text/x-python",
   "name": "python",
   "nbconvert_exporter": "python",
   "pygments_lexer": "ipython3",
   "version": "3.8.2"
  },
  "toc": {
   "base_numbering": 1,
   "nav_menu": {},
   "number_sections": true,
   "sideBar": true,
   "skip_h1_title": false,
   "title_cell": "Table of Contents",
   "title_sidebar": "Contents",
   "toc_cell": false,
   "toc_position": {},
   "toc_section_display": true,
   "toc_window_display": false
  },
  "varInspector": {
   "cols": {
    "lenName": 16,
    "lenType": 16,
    "lenVar": 40
   },
   "kernels_config": {
    "python": {
     "delete_cmd_postfix": "",
     "delete_cmd_prefix": "del ",
     "library": "var_list.py",
     "varRefreshCmd": "print(var_dic_list())"
    },
    "r": {
     "delete_cmd_postfix": ") ",
     "delete_cmd_prefix": "rm(",
     "library": "var_list.r",
     "varRefreshCmd": "cat(var_dic_list()) "
    }
   },
   "types_to_exclude": [
    "module",
    "function",
    "builtin_function_or_method",
    "instance",
    "_Feature"
   ],
   "window_display": false
  }
 },
 "nbformat": 4,
 "nbformat_minor": 2
}
